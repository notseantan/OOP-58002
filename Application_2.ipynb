{
  "nbformat": 4,
  "nbformat_minor": 0,
  "metadata": {
    "colab": {
      "provenance": [],
      "authorship_tag": "ABX9TyOoXL/IdrYfRgHVizjR5To9",
      "include_colab_link": true
    },
    "kernelspec": {
      "name": "python3",
      "display_name": "Python 3"
    },
    "language_info": {
      "name": "python"
    }
  },
  "cells": [
    {
      "cell_type": "markdown",
      "metadata": {
        "id": "view-in-github",
        "colab_type": "text"
      },
      "source": [
        "<a href=\"https://colab.research.google.com/github/notseantan/OOP-58002/blob/main/Application_2.ipynb\" target=\"_parent\"><img src=\"https://colab.research.google.com/assets/colab-badge.svg\" alt=\"Open In Colab\"/></a>"
      ]
    },
    {
      "cell_type": "markdown",
      "source": [
        "Example 1"
      ],
      "metadata": {
        "id": "PSe_3RkPthR8"
      }
    },
    {
      "cell_type": "code",
      "execution_count": 5,
      "metadata": {
        "colab": {
          "base_uri": "https://localhost:8080/"
        },
        "id": "e1YyfxunskIC",
        "outputId": "7681ae16-0bea-4d14-c2a1-651a26bc486d"
      },
      "outputs": [
        {
          "output_type": "stream",
          "name": "stdout",
          "text": [
            "Enter your age:18\n",
            "you are eligible to vote.\n"
          ]
        }
      ],
      "source": [
        "age = int(input(\"Enter your age:\"))\n",
        "\n",
        "if age>=18:\n",
        "  print(\"you are eligible to vote.\")\n",
        "else:\n",
        "  print(\"you are not eligible to vote.\")"
      ]
    },
    {
      "cell_type": "markdown",
      "source": [
        "Example 2"
      ],
      "metadata": {
        "id": "PP415TnRtiXr"
      }
    },
    {
      "cell_type": "code",
      "source": [
        "number = float(input(\"Enter a number: \"))\n",
        "\n",
        "if number==0:\n",
        " print(\"ZERO\")\n",
        "elif number>=1:\n",
        " print(\"POSITIVE\")\n",
        "else:\n",
        " print(\"NEGATIVE\")"
      ],
      "metadata": {
        "colab": {
          "base_uri": "https://localhost:8080/"
        },
        "id": "YWYwyHyMtn0L",
        "outputId": "671298e2-a6f1-412d-b574-6a8b87a6e0e6"
      },
      "execution_count": 9,
      "outputs": [
        {
          "output_type": "stream",
          "name": "stdout",
          "text": [
            "Enter a number: 0\n",
            "ZERO\n"
          ]
        }
      ]
    },
    {
      "cell_type": "markdown",
      "source": [
        "Example 3"
      ],
      "metadata": {
        "id": "SI4iTGgctnor"
      }
    },
    {
      "cell_type": "code",
      "source": [
        "grade = int(input(\"Kindly enter your grade: \"))\n",
        "if grade < 0:\n",
        "  print(\"Invalid grade. Please enter a positive number.\")\n",
        "  exit()\n",
        "if grade >= 70:\n",
        "  print(\"You've passed\")\n",
        "elif grade <= 69 and grade >= 65:\n",
        "  print(\"Take a Remedial\")\n",
        "elif grade <=65 and grade >=0:\n",
        "  print(\"You've failed\")"
      ],
      "metadata": {
        "colab": {
          "base_uri": "https://localhost:8080/"
        },
        "id": "LBDobJwetqnb",
        "outputId": "9ef3033d-aa7c-4dce-bc72-a70417803330"
      },
      "execution_count": 11,
      "outputs": [
        {
          "output_type": "stream",
          "name": "stdout",
          "text": [
            "Kindly enter your grade: 69\n",
            "Take Remedial\n"
          ]
        }
      ]
    }
  ]
}