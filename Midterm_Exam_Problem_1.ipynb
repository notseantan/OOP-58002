{
  "nbformat": 4,
  "nbformat_minor": 0,
  "metadata": {
    "colab": {
      "provenance": [],
      "authorship_tag": "ABX9TyNUJO1VVaLtHdrjiISEKzg/",
      "include_colab_link": true
    },
    "kernelspec": {
      "name": "python3",
      "display_name": "Python 3"
    },
    "language_info": {
      "name": "python"
    }
  },
  "cells": [
    {
      "cell_type": "markdown",
      "metadata": {
        "id": "view-in-github",
        "colab_type": "text"
      },
      "source": [
        "<a href=\"https://colab.research.google.com/github/notseantan/OOP-58002/blob/main/Midterm_Exam_Problem_1.ipynb\" target=\"_parent\"><img src=\"https://colab.research.google.com/assets/colab-badge.svg\" alt=\"Open In Colab\"/></a>"
      ]
    },
    {
      "cell_type": "code",
      "execution_count": 5,
      "metadata": {
        "colab": {
          "base_uri": "https://localhost:8080/"
        },
        "id": "RDFE5Wd6VUpE",
        "outputId": "cd1462f4-4033-4449-eeaa-f695d2261a28"
      },
      "outputs": [
        {
          "output_type": "stream",
          "name": "stdout",
          "text": [
            "Input your intended radius:60\n",
            "The area is: 11309.724\n",
            "The perimeter is: 376.9908\n"
          ]
        }
      ],
      "source": [
        "class Circle:\n",
        "    def __init__(self,radius):\n",
        "        self.radius = radius\n",
        "        self.diameter = radius * 2\n",
        "\n",
        "    def diameter(cls,diameter):\n",
        "        return cls(diameter/2)\n",
        "\n",
        "    def perimeter(self):\n",
        "        return 2 * 3.14159 * self.radius\n",
        "\n",
        "    def area(self):\n",
        "        return 3.14159 * (self.radius ** 2)\n",
        "\n",
        "Circle = Circle(radius = float(input(\"Input your intended radius:\")))\n",
        "print(\"The area is:\", Circle.area())\n",
        "print(\"The perimeter is:\", Circle.perimeter())"
      ]
    }
  ]
}