{
  "nbformat": 4,
  "nbformat_minor": 0,
  "metadata": {
    "colab": {
      "provenance": [],
      "authorship_tag": "ABX9TyOwT7A/RfXNT4BsB7EYVcDm",
      "include_colab_link": true
    },
    "kernelspec": {
      "name": "python3",
      "display_name": "Python 3"
    },
    "language_info": {
      "name": "python"
    }
  },
  "cells": [
    {
      "cell_type": "markdown",
      "metadata": {
        "id": "view-in-github",
        "colab_type": "text"
      },
      "source": [
        "<a href=\"https://colab.research.google.com/github/notseantan/OOP-58002/blob/main/OOP_Concepts_2.ipynb\" target=\"_parent\"><img src=\"https://colab.research.google.com/assets/colab-badge.svg\" alt=\"Open In Colab\"/></a>"
      ]
    },
    {
      "cell_type": "code",
      "execution_count": 24,
      "metadata": {
        "colab": {
          "base_uri": "https://localhost:8080/",
          "height": 200
        },
        "id": "0M5ZCFqhzxtn",
        "outputId": "e58f5619-0c09-418a-8100-90ded3815ac3"
      },
      "outputs": [
        {
          "output_type": "error",
          "ename": "AttributeError",
          "evalue": "ignored",
          "traceback": [
            "\u001b[0;31m---------------------------------------------------------------------------\u001b[0m",
            "\u001b[0;31mAttributeError\u001b[0m                            Traceback (most recent call last)",
            "\u001b[0;32m<ipython-input-24-d67c1f53a898>\u001b[0m in \u001b[0;36m<module>\u001b[0;34m\u001b[0m\n\u001b[1;32m      6\u001b[0m       \u001b[0;32mreturn\u001b[0m \u001b[0mself\u001b[0m\u001b[0;34m.\u001b[0m\u001b[0ma\u001b[0m \u001b[0;34m+\u001b[0m \u001b[0mself\u001b[0m\u001b[0;34m.\u001b[0m\u001b[0mb\u001b[0m\u001b[0;34m\u001b[0m\u001b[0;34m\u001b[0m\u001b[0m\n\u001b[1;32m      7\u001b[0m \u001b[0mfoo_object\u001b[0m \u001b[0;34m=\u001b[0m \u001b[0mfoo\u001b[0m\u001b[0;34m(\u001b[0m\u001b[0;36m3\u001b[0m\u001b[0;34m,\u001b[0m\u001b[0;36m4\u001b[0m\u001b[0;34m)\u001b[0m\u001b[0;34m\u001b[0m\u001b[0;34m\u001b[0m\u001b[0m\n\u001b[0;32m----> 8\u001b[0;31m \u001b[0mfoo_object\u001b[0m\u001b[0;34m.\u001b[0m\u001b[0madd\u001b[0m\u001b[0;34m(\u001b[0m\u001b[0;34m)\u001b[0m\u001b[0;34m\u001b[0m\u001b[0;34m\u001b[0m\u001b[0m\n\u001b[0m",
            "\u001b[0;31mAttributeError\u001b[0m: 'foo' object has no attribute 'add'"
          ]
        }
      ],
      "source": [
        "class foo:\n",
        "  def __init__(self, a,b):\n",
        "    self.a = a\n",
        "    self.b = b\n",
        "    def add(self):\n",
        "      return self.a + self.b\n",
        "foo_object = foo(3,4)\n",
        "foo_object.add()"
      ]
    },
    {
      "cell_type": "code",
      "source": [
        "class Birds:\n",
        "  def __init__(self,name_birds):\n",
        "    self.name_birds = name_birds\n",
        "  def flying_birds(self):\n",
        "    print(f\"The {self.name_birds} is the flying bird above the sky\")\n",
        "  def non_flying_birds(self):\n",
        "    print(f\"The {self.name_birds} is the non flying birds\")\n",
        "\n",
        "eagle = Birds(\"Eagle\")\n",
        "chicken = Birds(\"Chicken\")\n",
        "eagle.flying_birds()\n",
        "chicken.non_flying_birds()"
      ],
      "metadata": {
        "colab": {
          "base_uri": "https://localhost:8080/"
        },
        "id": "L_LNV4ts992B",
        "outputId": "f55c75fe-cebb-4dea-a29e-ccfae92016ab"
      },
      "execution_count": 19,
      "outputs": [
        {
          "output_type": "stream",
          "name": "stdout",
          "text": [
            "The Eagle is fthe flying bird above the sky\n",
            "The Chicken is the non flying birds\n"
          ]
        }
      ]
    },
    {
      "cell_type": "code",
      "source": [
        "#Encapsulation\n",
        "\n",
        "class foo:\n",
        "  def __init__(self,a,b):\n",
        "    self.__a = a\n",
        "    self.__b = b\n",
        "  def add(self):\n",
        "    return self.__a + self.__b\n",
        "\n",
        "foo_object = foo(3,4)\n",
        "foo_object.add()\n",
        "foo_object.a = 7\n",
        "foo_object.b = 6\n",
        "foo_object.add()"
      ],
      "metadata": {
        "colab": {
          "base_uri": "https://localhost:8080/"
        },
        "id": "aJKDCSYV_RGj",
        "outputId": "c4107b3a-fe9e-4e6b-a8ab-c468c6e386a7"
      },
      "execution_count": 21,
      "outputs": [
        {
          "output_type": "execute_result",
          "data": {
            "text/plain": [
              "7"
            ]
          },
          "metadata": {},
          "execution_count": 21
        }
      ]
    },
    {
      "cell_type": "code",
      "source": [
        "#Inheritance\n",
        "class Person:\n",
        "  def __init__(self,name,birthdate):\n",
        "    self.name = name\n",
        "    self.birthdate = birthdate\n",
        "  def display(self):\n",
        "    print(\"My name is\",self.name)\n",
        "    print(\"My birthday is\",self.birthdate)\n",
        "class Student(Person):\n",
        "  pass\n",
        "person = Person(\"Jobert\",\"January 1, 1880\")\n",
        "person.display()\n",
        "\n",
        "student = Person(\"Bogart\", \"February 1, 1770\")\n",
        "student.display()"
      ],
      "metadata": {
        "colab": {
          "base_uri": "https://localhost:8080/"
        },
        "id": "cVJRZ8vrAthi",
        "outputId": "c45c941d-96bf-4239-ef46-6edf98380f49"
      },
      "execution_count": 22,
      "outputs": [
        {
          "output_type": "stream",
          "name": "stdout",
          "text": [
            "My name is Jobert\n",
            "My birthday is January 1, 1880\n",
            "My name is Bogart\n",
            "My birthday is February 1, 1770\n"
          ]
        }
      ]
    },
    {
      "cell_type": "code",
      "source": [
        "class Shapes:\n",
        "    def __init__(self, sides, name):\n",
        "        self.__sides = sides\n",
        "        self.__name = name\n",
        "    def __display_sides(self):\n",
        "        print(f\"{self.__name} has {len(self.__sides)} sides\")\n",
        "\n",
        "class Triangle(Shapes):\n",
        "    def __init__(self, sides):\n",
        "        super().__init__(sides, \"Triangle\")\n",
        "    def display_sides(self):\n",
        "        self._Shapes__display_sides()\n",
        "\n",
        "class Rectangle(Shapes):\n",
        "    def __init__(self, sides):\n",
        "        super().__init__(sides, \"Rectangle\")\n",
        "    def display_sides(self):\n",
        "        self._Shapes__display_sides()\n",
        "\n",
        "class Pentagon(Shapes):\n",
        "    def __init__(self, sides):\n",
        "        super().__init__(sides, \"Pentagon\")\n",
        "    def display_sides(self):\n",
        "        self._Shapes__display_sides()\n",
        "\n",
        "class Hexagon(Shapes):\n",
        "    def __init__(self, sides):\n",
        "        super().__init__(sides, \"Hexagon\")\n",
        "    def display_sides(self):\n",
        "        self._Shapes__display_sides()\n",
        "\n",
        "class Heptagon(Shapes):\n",
        "    def __init__(self, sides):\n",
        "        super().__init__(sides, \"Heptagon\")\n",
        "    def display_sides(self):\n",
        "        self._Shapes__display_sides()\n",
        "\n",
        "\n",
        "triangle = Triangle([3, 3, 3])\n",
        "rectangle = Rectangle([4, 4, 4, 4])\n",
        "pentagon = Pentagon([5, 5, 5, 5, 5])\n",
        "hexagon = Hexagon([6, 6, 6, 6, 6, 6])\n",
        "heptagon = Heptagon([7, 7, 7, 7, 7, 7, 7])\n",
        "triangle.display_sides()\n",
        "rectangle.display_sides()\n",
        "pentagon.display_sides()\n",
        "hexagon.display_sides()\n",
        "heptagon.display_sides()"
      ],
      "metadata": {
        "colab": {
          "base_uri": "https://localhost:8080/"
        },
        "id": "RjJ4_UsxEvVf",
        "outputId": "f9beeeee-a83d-4a1d-d8ed-ef955042d02d"
      },
      "execution_count": 33,
      "outputs": [
        {
          "output_type": "stream",
          "name": "stdout",
          "text": [
            "Triangle has 3 sides\n",
            "Rectangle has 4 sides\n",
            "Pentagon has 5 sides\n",
            "Hexagon has 6 sides\n",
            "Heptagon has 7 sides\n"
          ]
        }
      ]
    }
  ]
}