{
  "nbformat": 4,
  "nbformat_minor": 0,
  "metadata": {
    "colab": {
      "provenance": [],
      "authorship_tag": "ABX9TyMQShK1WhM+EpwIPxXClBwd",
      "include_colab_link": true
    },
    "kernelspec": {
      "name": "python3",
      "display_name": "Python 3"
    },
    "language_info": {
      "name": "python"
    }
  },
  "cells": [
    {
      "cell_type": "markdown",
      "metadata": {
        "id": "view-in-github",
        "colab_type": "text"
      },
      "source": [
        "<a href=\"https://colab.research.google.com/github/notseantan/OOP-58002/blob/main/Control_Structure.ipynb\" target=\"_parent\"><img src=\"https://colab.research.google.com/assets/colab-badge.svg\" alt=\"Open In Colab\"/></a>"
      ]
    },
    {
      "cell_type": "markdown",
      "source": [
        "If statement"
      ],
      "metadata": {
        "id": "lfyhQLbzl524"
      }
    },
    {
      "cell_type": "code",
      "execution_count": null,
      "metadata": {
        "id": "dbWvB3INjDQ0"
      },
      "outputs": [],
      "source": [
        "a=100\n",
        "b=100\n",
        "if a>b:\n",
        "  print(\"a is greater than b\")"
      ]
    },
    {
      "cell_type": "markdown",
      "source": [
        "Elif statement"
      ],
      "metadata": {
        "id": "rmj_syvJmJj4"
      }
    },
    {
      "cell_type": "code",
      "source": [
        "a = 100\n",
        "b = 100\n",
        "\n",
        "if a>b:\n",
        "   print(\"a is greater than b\")\n",
        "elif a<b:\n",
        "  print(\"a is less than b\")"
      ],
      "metadata": {
        "id": "9tVWDteHlN2Y"
      },
      "execution_count": null,
      "outputs": []
    },
    {
      "cell_type": "markdown",
      "source": [
        "Else Statement"
      ],
      "metadata": {
        "id": "BX2Jq7evnF-o"
      }
    },
    {
      "cell_type": "code",
      "source": [
        "if a>b:\n",
        "  print(\"a is greater than b\")\n",
        "else:\n",
        "  print(\"a is less than b\")"
      ],
      "metadata": {
        "colab": {
          "base_uri": "https://localhost:8080/"
        },
        "id": "7PDYeh14nGSA",
        "outputId": "9b1a075a-a3b0-4860-b066-03c9f8a438ae"
      },
      "execution_count": null,
      "outputs": [
        {
          "output_type": "stream",
          "name": "stdout",
          "text": [
            "a is less than b\n"
          ]
        }
      ]
    },
    {
      "cell_type": "markdown",
      "source": [
        "Short Hand If"
      ],
      "metadata": {
        "id": "FzW9t_DSnT7n"
      }
    },
    {
      "cell_type": "code",
      "source": [
        "if a==b: print(\"a is equal to b\")"
      ],
      "metadata": {
        "colab": {
          "base_uri": "https://localhost:8080/"
        },
        "id": "auc44YHEnUBP",
        "outputId": "ef4a911f-0f40-4e46-9a98-9861e38a882b"
      },
      "execution_count": null,
      "outputs": [
        {
          "output_type": "stream",
          "name": "stdout",
          "text": [
            "a is equal to b\n"
          ]
        }
      ]
    },
    {
      "cell_type": "markdown",
      "source": [
        "Short Hand If Else"
      ],
      "metadata": {
        "id": "0qyKwqponeU8"
      }
    },
    {
      "cell_type": "code",
      "source": [
        "print(\"a is greater than b\") if a>b else print(\"a is less than b\")"
      ],
      "metadata": {
        "colab": {
          "base_uri": "https://localhost:8080/"
        },
        "id": "jxyHsO98nedF",
        "outputId": "1c97a2cf-03af-4ce7-f3dd-1b5ba678cfef"
      },
      "execution_count": null,
      "outputs": [
        {
          "output_type": "stream",
          "name": "stdout",
          "text": [
            "a is less than b\n"
          ]
        }
      ]
    },
    {
      "cell_type": "markdown",
      "source": [
        "And Condition"
      ],
      "metadata": {
        "id": "QCMhFrRtnsp1"
      }
    },
    {
      "cell_type": "code",
      "source": [
        "s = 75\n",
        "t = 70\n",
        "\n",
        "if s>t and t<s:\n",
        "  print(\"s is greater than t\")"
      ],
      "metadata": {
        "colab": {
          "base_uri": "https://localhost:8080/"
        },
        "id": "UZClWZjYnhHt",
        "outputId": "0d39f445-c695-4e46-fc7f-4e12bff473d8"
      },
      "execution_count": null,
      "outputs": [
        {
          "output_type": "stream",
          "name": "stdout",
          "text": [
            "s is greater than t\n"
          ]
        }
      ]
    },
    {
      "cell_type": "markdown",
      "source": [
        "Or Condition"
      ],
      "metadata": {
        "id": "vw2qqxz3n-L1"
      }
    },
    {
      "cell_type": "code",
      "source": [
        "print(\"s>t and t<s\")"
      ],
      "metadata": {
        "colab": {
          "base_uri": "https://localhost:8080/"
        },
        "id": "geYHLS62oAX1",
        "outputId": "31d8a966-a8ba-4059-b680-57e528738e90"
      },
      "execution_count": null,
      "outputs": [
        {
          "output_type": "stream",
          "name": "stdout",
          "text": [
            "s>t and t<s\n"
          ]
        }
      ]
    },
    {
      "cell_type": "markdown",
      "source": [
        "Nested If Statement"
      ],
      "metadata": {
        "id": "rbI5fTw7ov0F"
      }
    },
    {
      "cell_type": "code",
      "source": [
        "x=41\n",
        "\n",
        "if x>10:\n",
        "  print(\"Above 10\")\n",
        "else:\n",
        "  print(\"Below 10\")\n",
        "if x>20:\n",
        "  print(\"Above 20\")\n",
        "else:\n",
        "  print(\"Below 20\")\n",
        "if x>30:\n",
        "  print(\"Above 30\")\n",
        "else:\n",
        "  print(\"Below 30\")\n",
        "if x>40:\n",
        "  print(\"Above 40\")\n",
        "else:\n",
        "  print(\"Below 40\")\n",
        "if x>50:\n",
        "  print(\"Above 50\")\n",
        "else:\n",
        "  print(\"Below 50\")"
      ],
      "metadata": {
        "colab": {
          "base_uri": "https://localhost:8080/"
        },
        "id": "qs5cg9_sov71",
        "outputId": "4a53a2ac-8aff-4e4e-b7bd-b3545703cbc8"
      },
      "execution_count": null,
      "outputs": [
        {
          "output_type": "stream",
          "name": "stdout",
          "text": [
            "Above 10\n",
            "Above 20\n",
            "Above 30\n",
            "Above 40\n",
            "Below 50\n"
          ]
        }
      ]
    }
  ]
}