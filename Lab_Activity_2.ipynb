{
  "nbformat": 4,
  "nbformat_minor": 0,
  "metadata": {
    "colab": {
      "provenance": [],
      "authorship_tag": "ABX9TyMS2CTksdAgscVIyLUKfvPf",
      "include_colab_link": true
    },
    "kernelspec": {
      "name": "python3",
      "display_name": "Python 3"
    },
    "language_info": {
      "name": "python"
    }
  },
  "cells": [
    {
      "cell_type": "markdown",
      "metadata": {
        "id": "view-in-github",
        "colab_type": "text"
      },
      "source": [
        "<a href=\"https://colab.research.google.com/github/notseantan/OOP-58002/blob/main/Lab_Activity_2.ipynb\" target=\"_parent\"><img src=\"https://colab.research.google.com/assets/colab-badge.svg\" alt=\"Open In Colab\"/></a>"
      ]
    },
    {
      "cell_type": "code",
      "source": [
        "class Circle:\n",
        "  def __init__(self, radius):\n",
        "    self.radius = radius\n",
        "    self.pi = 3.14159\n",
        "\n",
        "  def Perimeter(self):\n",
        "    return 2 * self.pi * self.radius\n",
        "\n",
        "  def Area(self):\n",
        "    return self.pi * self.radius ** 2\n",
        "\n",
        "  def Display(self):\n",
        "    print(\"your perimeter is\", self.Perimeter())\n",
        "    print(\"your area is\", self.Area())\n",
        "\n",
        "radius = float(input(\"Kindly input the radius: \"))\n",
        "c = Circle(radius)\n",
        "c.Display()"
      ],
      "metadata": {
        "colab": {
          "base_uri": "https://localhost:8080/"
        },
        "id": "-PfdB4PzL7fV",
        "outputId": "7f9955e9-f305-4521-b0f8-7002059d7191"
      },
      "execution_count": 33,
      "outputs": [
        {
          "output_type": "stream",
          "name": "stdout",
          "text": [
            "Kindly input the radius: 5\n",
            "your perimeter is 31.4159\n",
            "your area is 78.53975\n"
          ]
        }
      ]
    }
  ]
}