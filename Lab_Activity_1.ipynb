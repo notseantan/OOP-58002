{
  "nbformat": 4,
  "nbformat_minor": 0,
  "metadata": {
    "colab": {
      "provenance": [],
      "authorship_tag": "ABX9TyNZe7DXqm5JXbAYqQJlcYvR",
      "include_colab_link": true
    },
    "kernelspec": {
      "name": "python3",
      "display_name": "Python 3"
    },
    "language_info": {
      "name": "python"
    }
  },
  "cells": [
    {
      "cell_type": "markdown",
      "metadata": {
        "id": "view-in-github",
        "colab_type": "text"
      },
      "source": [
        "<a href=\"https://colab.research.google.com/github/notseantan/OOP-58002/blob/main/Lab_Activity_1.ipynb\" target=\"_parent\"><img src=\"https://colab.research.google.com/assets/colab-badge.svg\" alt=\"Open In Colab\"/></a>"
      ]
    },
    {
      "cell_type": "markdown",
      "source": [
        "Lab Activity 1"
      ],
      "metadata": {
        "id": "rz2B7dqby6Fd"
      }
    },
    {
      "cell_type": "code",
      "execution_count": 1,
      "metadata": {
        "id": "CMa5LaE0o1_E",
        "colab": {
          "base_uri": "https://localhost:8080/"
        },
        "outputId": "eb55e82c-9076-401b-f909-06e777669815"
      },
      "outputs": [
        {
          "output_type": "stream",
          "name": "stdout",
          "text": [
            "Total numbers: 21\n",
            "Sum: 210\n",
            "Average: 10.0\n"
          ]
        }
      ],
      "source": [
        "n = 20\n",
        "total_numbers = 0\n",
        "total_sum = 0\n",
        "\n",
        "while n >= 0:\n",
        "    total_sum += n\n",
        "    total_numbers += 1\n",
        "    n -= 1\n",
        "\n",
        "if n < 0:\n",
        "    average = total_sum / total_numbers\n",
        "    print(f\"Total numbers: {total_numbers}\")\n",
        "    print(f\"Sum: {total_sum}\")\n",
        "    print(f\"Average: {average}\")"
      ]
    }
  ]
}