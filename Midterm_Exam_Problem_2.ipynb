{
  "nbformat": 4,
  "nbformat_minor": 0,
  "metadata": {
    "colab": {
      "provenance": [],
      "authorship_tag": "ABX9TyPEY67JIpsNQlBgGG+ZrfYo",
      "include_colab_link": true
    },
    "kernelspec": {
      "name": "python3",
      "display_name": "Python 3"
    },
    "language_info": {
      "name": "python"
    }
  },
  "cells": [
    {
      "cell_type": "markdown",
      "metadata": {
        "id": "view-in-github",
        "colab_type": "text"
      },
      "source": [
        "<a href=\"https://colab.research.google.com/github/notseantan/OOP-58002/blob/main/Midterm_Exam_Problem_2.ipynb\" target=\"_parent\"><img src=\"https://colab.research.google.com/assets/colab-badge.svg\" alt=\"Open In Colab\"/></a>"
      ]
    },
    {
      "cell_type": "code",
      "source": [
        "import tkinter as tk\n",
        "def full_name():\n",
        "    full_name = \"{first_name.get()} {middle_name.get()} {last_name.get()}\"\n",
        "    output.delete(0,tk.END)\n",
        "    output.delete(0,full_name)\n",
        "window = tk.Tk()\n",
        "\n",
        "window.title(\"Midterm Exam Problem 2\")\n",
        "tk.Label(window,text=\"My Full Name\").grid(row=0,column=2,padx=5,pady=5)\n",
        "\n",
        "tk.Button(window,text=\"Show Full Name\",command=full_name).grid(row=5,column=2,padx=10,pady=10)\n",
        "\n",
        "tk.Label(window,text=\"Kindly enter your first name:\").grid(row=1,column=0,padx=5,pady=5)\n",
        "first_name = tk.Entry(window)\n",
        "first_name.grid(row=1,column=4,padx=10,pady=10)\n",
        "\n",
        "tk.Label(window,text=\"Kindly enter your middle name:\").grid(row=2,column=0,padx=5,pady=5)\n",
        "middle_name = tk.Entry(window)\n",
        "middle_name.grid(row=2,column=4,padx=10,pady=10)\n",
        "\n",
        "tk.Label(window,text=\"Kindly enter your last name:\").grid(row=3,column=0,padx=5,pady=5)\n",
        "last_name = tk.Entry(window)\n",
        "last_name.grid(row=3,column=4,padx=10,pady=10)\n",
        "\n",
        "tk.Label(window,text=\"Your full name is:\").grid(row=4,column=0,padx=5,pady=5)\n",
        "output = tk.Entry(window)\n",
        "output.grid(row=4,column=4,padx=10,pady=10)"
      ],
      "metadata": {
        "id": "Y2h0CZ6hWiIO"
      },
      "execution_count": null,
      "outputs": []
    }
  ]
}