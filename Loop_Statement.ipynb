{
  "nbformat": 4,
  "nbformat_minor": 0,
  "metadata": {
    "colab": {
      "provenance": [],
      "authorship_tag": "ABX9TyNRplQYPR1fNl2n/vr482hn",
      "include_colab_link": true
    },
    "kernelspec": {
      "name": "python3",
      "display_name": "Python 3"
    },
    "language_info": {
      "name": "python"
    }
  },
  "cells": [
    {
      "cell_type": "markdown",
      "metadata": {
        "id": "view-in-github",
        "colab_type": "text"
      },
      "source": [
        "<a href=\"https://colab.research.google.com/github/notseantan/OOP-58002/blob/main/Loop_Statement.ipynb\" target=\"_parent\"><img src=\"https://colab.research.google.com/assets/colab-badge.svg\" alt=\"Open In Colab\"/></a>"
      ]
    },
    {
      "cell_type": "markdown",
      "source": [
        "For Loop"
      ],
      "metadata": {
        "id": "gvUyQdoancKE"
      }
    },
    {
      "cell_type": "code",
      "execution_count": 2,
      "metadata": {
        "colab": {
          "base_uri": "https://localhost:8080/"
        },
        "id": "sMTl4_sulgVQ",
        "outputId": "12bd402a-44be-49d2-c7a8-a478f3d43a75"
      },
      "outputs": [
        {
          "output_type": "stream",
          "name": "stdout",
          "text": [
            "Sunday\n",
            "Monday\n",
            "Tuesday\n",
            "Wednesday\n",
            "Thursday\n",
            "Friday\n",
            "Saturday\n"
          ]
        }
      ],
      "source": [
        "week = [\"Sunday\", \"Monday\", \"Tuesday\", \"Wednesday\", \"Thursday\", \"Friday\", \"Saturday\"]\n",
        "for x in week:\n",
        "  print (x)"
      ]
    },
    {
      "cell_type": "markdown",
      "source": [
        "For Loop through string"
      ],
      "metadata": {
        "id": "ONvnrQvqn5Ns"
      }
    },
    {
      "cell_type": "code",
      "source": [
        "for x in \"week\":\n",
        "  print(x)"
      ],
      "metadata": {
        "colab": {
          "base_uri": "https://localhost:8080/"
        },
        "id": "lOsfxPw9oP5-",
        "outputId": "faa89118-1fb4-4097-c9c0-91575ddeffd2"
      },
      "execution_count": 3,
      "outputs": [
        {
          "output_type": "stream",
          "name": "stdout",
          "text": [
            "w\n",
            "e\n",
            "e\n",
            "k\n"
          ]
        }
      ]
    },
    {
      "cell_type": "markdown",
      "source": [
        "For Loop using break statement"
      ],
      "metadata": {
        "id": "iWNThHA_obZ9"
      }
    },
    {
      "cell_type": "code",
      "source": [
        "for x in week:\n",
        "  print (x)\n",
        "  if x == \"Thursday\":\n",
        "    break"
      ],
      "metadata": {
        "colab": {
          "base_uri": "https://localhost:8080/"
        },
        "id": "fqBY87b3obkc",
        "outputId": "1fa9da71-eadf-4d74-fb63-0664aa3f6d8a"
      },
      "execution_count": 4,
      "outputs": [
        {
          "output_type": "stream",
          "name": "stdout",
          "text": [
            "Sunday\n",
            "Monday\n",
            "Tuesday\n",
            "Wednesday\n",
            "Thursday\n"
          ]
        }
      ]
    },
    {
      "cell_type": "markdown",
      "source": [
        "to display only Thursday"
      ],
      "metadata": {
        "id": "7DQ9nZuJpEUs"
      }
    },
    {
      "cell_type": "code",
      "source": [
        "for x in \"week\":\n",
        " if x == \"Thursday\":\n",
        "     print(x)\n",
        "     break"
      ],
      "metadata": {
        "id": "iZaXzII_pEPk"
      },
      "execution_count": 36,
      "outputs": []
    },
    {
      "cell_type": "markdown",
      "source": [
        "range() function"
      ],
      "metadata": {
        "id": "fRvIVWOnqy8B"
      }
    },
    {
      "cell_type": "code",
      "source": [
        "for x in range(6):\n",
        "   print(x)"
      ],
      "metadata": {
        "colab": {
          "base_uri": "https://localhost:8080/"
        },
        "id": "M9F4BItOqzFo",
        "outputId": "8eabc939-83aa-47b7-b49d-478bd57a3f6b"
      },
      "execution_count": 34,
      "outputs": [
        {
          "output_type": "stream",
          "name": "stdout",
          "text": [
            "0\n",
            "1\n",
            "2\n",
            "3\n",
            "4\n",
            "5\n"
          ]
        }
      ]
    },
    {
      "cell_type": "markdown",
      "source": [
        "Nested Loop"
      ],
      "metadata": {
        "id": "J5J_kWn_rWaA"
      }
    },
    {
      "cell_type": "code",
      "source": [
        "adjective = [\"Red\", \"Big\", \"Tasty\"]\n",
        "fruits = [\"Apple\", \"Banana\", \"Cherry\"]"
      ],
      "metadata": {
        "id": "iAcePUZUrWeQ"
      },
      "execution_count": 37,
      "outputs": []
    },
    {
      "cell_type": "markdown",
      "source": [
        "While Loop"
      ],
      "metadata": {
        "id": "PTGK1tMVtdwb"
      }
    },
    {
      "cell_type": "code",
      "source": [
        "i = 1\n",
        "while i < 6:\n",
        "  print(i)\n",
        "  i += 1"
      ],
      "metadata": {
        "colab": {
          "base_uri": "https://localhost:8080/"
        },
        "id": "Yk9aAgiPtd7_",
        "outputId": "2760cd09-55e1-4303-ef80-61c16940aaaf"
      },
      "execution_count": 43,
      "outputs": [
        {
          "output_type": "stream",
          "name": "stdout",
          "text": [
            "1\n",
            "2\n",
            "3\n",
            "4\n",
            "5\n"
          ]
        }
      ]
    },
    {
      "cell_type": "markdown",
      "source": [
        "While Loop using Break Statement"
      ],
      "metadata": {
        "id": "_btEQ8_TuHFo"
      }
    },
    {
      "cell_type": "code",
      "source": [
        "i = 1\n",
        "while 1 <= 6:\n",
        " if i == 3:\n",
        "  print (i)\n",
        " break\n",
        "i+=1"
      ],
      "metadata": {
        "id": "xeepfcfVuHK2"
      },
      "execution_count": 64,
      "outputs": []
    },
    {
      "cell_type": "markdown",
      "source": [
        "Create a Python program that displays: Hello 1 to 10"
      ],
      "metadata": {
        "id": "imsDHOmH3gmU"
      }
    },
    {
      "cell_type": "code",
      "source": [
        "for x in range(11):\n",
        " print(\"Hello\",x)"
      ],
      "metadata": {
        "colab": {
          "base_uri": "https://localhost:8080/"
        },
        "id": "yYQI0HD53ght",
        "outputId": "842771ae-6fa8-4a58-e7d3-c78995c94b42"
      },
      "execution_count": 70,
      "outputs": [
        {
          "output_type": "stream",
          "name": "stdout",
          "text": [
            "Hello 0\n",
            "Hello 1\n",
            "Hello 2\n",
            "Hello 3\n",
            "Hello 4\n",
            "Hello 5\n",
            "Hello 6\n",
            "Hello 7\n",
            "Hello 8\n",
            "Hello 9\n",
            "Hello 10\n"
          ]
        }
      ]
    },
    {
      "cell_type": "markdown",
      "source": [
        "Create a Python program that displays integers less than 10 but not less than 3\n"
      ],
      "metadata": {
        "id": "vUzXJ03h3sCU"
      }
    },
    {
      "cell_type": "code",
      "source": [
        "for x in range(11):\n",
        "  x>3:\n",
        "  print(x)\n",
        "  if x == 10\n",
        "  break"
      ],
      "metadata": {
        "colab": {
          "base_uri": "https://localhost:8080/",
          "height": 130
        },
        "id": "t5ClBysi3rVd",
        "outputId": "dc432920-91d3-4c97-d8aa-ee73d64cdaf7"
      },
      "execution_count": 75,
      "outputs": [
        {
          "output_type": "error",
          "ename": "SyntaxError",
          "evalue": "ignored",
          "traceback": [
            "\u001b[0;36m  File \u001b[0;32m\"<ipython-input-75-d81b4b4b0a60>\"\u001b[0;36m, line \u001b[0;32m2\u001b[0m\n\u001b[0;31m    x>3:\u001b[0m\n\u001b[0m        ^\u001b[0m\n\u001b[0;31mSyntaxError\u001b[0m\u001b[0;31m:\u001b[0m invalid syntax\n"
          ]
        }
      ]
    }
  ]
}